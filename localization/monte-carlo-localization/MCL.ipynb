{
 "cells": [
  {
   "cell_type": "code",
   "execution_count": 1,
   "metadata": {},
   "outputs": [],
   "source": [
    "import numpy as np\n",
    "import matplotlib.pyplot as plt\n",
    "import copy\n"
   ]
  },
  {
   "cell_type": "code",
   "execution_count": 2,
   "metadata": {},
   "outputs": [],
   "source": [
    "landmarks = [[20.0, 20.0], [20.0, 80.0], [20.0, 50.0], [50.0, 20.0], [50.0, 80.0], \n",
    "             [80.0, 80.0], [80.0, 20.0], [80.0, 50.0]]\n",
    "\n",
    "# map size in meters\n",
    "world_size = 100.0\n",
    "M_PI = 3.14\n",
    "np.random.seed(123)\n",
    "\n",
    "class Robot(object):\n",
    "    def __init__(self):\n",
    "        #  robot's pose\n",
    "        self.x = np.random.rand() * world_size \n",
    "        self.y = np.random.rand()* world_size \n",
    "        self.orient = np.random.rand() * 2.0 * M_PI\n",
    "\n",
    "        self.forward_noise = 0.0\n",
    "        self.turn_noise = 0.0 \n",
    "        self.sense_noise = 0.0 \n",
    "        \n",
    "    def set_val(self, new_x, new_y, new_orient):\n",
    "        if (new_x < 0) or (new_x >= world_size):\n",
    "            return(\"X coordinate out of bound\")\n",
    "        if (new_y < 0) or (new_y >= world_size):\n",
    "            return(\"Y coordinate out of bound\")\n",
    "        if (new_orient < 0) or (new_orient >= 2 * M_PI):\n",
    "            return(\"Orientation must be between zero and 2pi\")\n",
    "                    \n",
    "        self.x = new_x\n",
    "        self.y = new_y\n",
    "        self.orient = new_orient\n",
    "        \n",
    "    def set_noise(self, new_forward_noise, new_turn_noise, new_sense_noise):\n",
    "        # simulate noise for particle filters\n",
    "        self.forward_noise = new_forward_noise\n",
    "        self.turn_noise = new_turn_noise\n",
    "        self.sense_noise = new_sense_noise\n",
    "        \n",
    "    def sense(self):\n",
    "        # distances btw robot and the landmarks\n",
    "        zs = list()\n",
    "        for i in range(len(landmarks)):\n",
    "            dist = np.sqrt(pow((self.x - landmarks[i][0]), 2) + pow((self.y - landmarks[i][1]), 2))\n",
    "            dist += np.random.normal(0.0, self.sense_noise)\n",
    "            zs.append(dist)\n",
    "        \n",
    "        return zs\n",
    "    \n",
    "    def move(self, turn, forward):\n",
    "        \n",
    "        if (forward < 0):\n",
    "            print(\"Robot cannot move backward\")\n",
    "\n",
    "        # turn \n",
    "        self.orient = self.orient + turn + np.random.normal(0.0, self.turn_noise) # add randomness to turn cmd\n",
    "        self.orient = np.mod(self.orient, 2 * M_PI)\n",
    "\n",
    "        # move and \n",
    "        dist = forward + np.random.normal(0.0, self.forward_noise) # add randomness to motion cmd\n",
    "        self.x = self.x + (np.cos(self.orient) * dist)\n",
    "        self.y = self.y + (np.sin(self.orient) * dist)\n",
    "\n",
    "        # cyclic truncate\n",
    "        self.x = np.mod(self.x, world_size);\n",
    "        self.y = np.mod(self.y, world_size);\n",
    "\n",
    "        # set particle\n",
    "        res = Robot()\n",
    "        res.set_val(self.x, self.y, self.orient)\n",
    "        res.set_noise(self.forward_noise, self.turn_noise, self.sense_noise)\n",
    "\n",
    "        return res\n",
    "    \n",
    "    def show_pose(self):\n",
    "        return \"x=\" + str(self.x) + \" y=\" + str(self.y) + \" orient=\" + str(self.orient)\n",
    "    \n",
    "    \n",
    "    def measurement_prob(self, measurement):\n",
    "        # calculates how likely a measurement should be\n",
    "        prob = 1.0\n",
    "        for i in range(len(landmarks)):\n",
    "            dist = np.sqrt(pow((self.x - landmarks[i][0]), 2) + pow((self.y - landmarks[i][1]), 2))\n",
    "            prob *= self._gaussian(dist, self.sense_noise, measurement[i])\n",
    "        return prob\n",
    "    \n",
    "    def _gaussian(self, mu, sigma, xm):\n",
    "        # probability of x for 1-dim Gaussian\n",
    "        return np.exp(-(pow((mu - xm), 2)) / (pow(sigma, 2)) / 2.0) / np.sqrt(2.0 * M_PI * (pow(sigma, 2)))\n",
    "\n",
    "def evaluation(r, p, n):\n",
    "    # calculate the mean error of the system\n",
    "    sum_num = 0.0\n",
    "    for tt in range(n):\n",
    "        # note: cyclic world\n",
    "        dx = np.mod((p[tt].x - r.x + (world_size / 2.0)), world_size) - (world_size / 2.0)\n",
    "        dy = np.mod((p[tt].y - r.y + (world_size / 2.0)), world_size) - (world_size / 2.0)\n",
    "        err = np.sqrt(pow(dx, 2) + pow(dy, 2))\n",
    "        sum_num += err\n",
    "    \n",
    "    return sum_num / n\n",
    "\n",
    "\n",
    "def visualize(n, robot, step, particles, resampled_particles):\n",
    "    # draw the robot, landmarks, particles and resampled particles on a graph\n",
    "\n",
    "    plt.xlim([0, 100])\n",
    "    plt.ylim([0, 100])\n",
    "    \n",
    "    for i in range(n): \n",
    "        # draw particles in green\n",
    "        plt.plot(particles[i].x, particles[i].y, \"go\")\n",
    "        # draw resampled particles in cylan\n",
    "        plt.plot(resampled_particles[i].x, resampled_particles[i].y, \"co\")\n",
    "\n",
    "    \n",
    "    # draw landmarks in red\n",
    "    for l in range(len(landmarks)): \n",
    "        plt.plot(landmarks[l][0], landmarks[l][1], \"ro\")\n",
    "    \n",
    "\n",
    "    # draw robot position in blue\n",
    "    plt.plot(robot.x, robot.y, \"bo\")\n",
    "\n",
    "    # save the image and close the plot\n",
    "    plt.savefig(\"./images/step\" + str(step) + \".png\")\n",
    "    plt.clf()\n",
    "\n",
    "    "
   ]
  },
  {
   "cell_type": "code",
   "execution_count": 3,
   "metadata": {},
   "outputs": [
    {
     "name": "stdout",
     "output_type": "stream",
     "text": [
      "Step = 0, Evaluation = 2.749980288919456\n",
      "Step = 1, Evaluation = 3.5957838699173186\n",
      "Step = 2, Evaluation = 3.5208603916061785\n",
      "Step = 3, Evaluation = 3.5207133949239195\n",
      "Step = 4, Evaluation = 3.768578223598064\n",
      "Step = 5, Evaluation = 3.2535368831061886\n",
      "Step = 6, Evaluation = 3.2888017184531635\n",
      "Step = 7, Evaluation = 3.380729235659864\n",
      "Step = 8, Evaluation = 3.49307028279367\n",
      "Step = 9, Evaluation = 3.5308656204760354\n",
      "Step = 10, Evaluation = 3.3656529291233874\n",
      "Step = 11, Evaluation = 3.0416523222932805\n",
      "Step = 12, Evaluation = 2.66600114945022\n",
      "Step = 13, Evaluation = 2.439927638603685\n",
      "Step = 14, Evaluation = 2.2651134368999335\n",
      "Step = 15, Evaluation = 2.1207336663460508\n",
      "Step = 16, Evaluation = 1.936968121588988\n",
      "Step = 17, Evaluation = 1.8558673928519716\n",
      "Step = 18, Evaluation = 1.7374797425106603\n",
      "Step = 19, Evaluation = 1.6948338830820884\n",
      "Step = 20, Evaluation = 1.6952200871197556\n",
      "Step = 21, Evaluation = 1.6568467292417428\n",
      "Step = 22, Evaluation = 1.6334360550113265\n",
      "Step = 23, Evaluation = 1.5763897657060384\n",
      "Step = 24, Evaluation = 1.5328201276375863\n",
      "Step = 25, Evaluation = 1.5428350702194327\n",
      "Step = 26, Evaluation = 1.5614681522791745\n",
      "Step = 27, Evaluation = 1.6304287666078516\n",
      "Step = 28, Evaluation = 1.7145895997187406\n",
      "Step = 29, Evaluation = 1.8610176023667984\n",
      "Step = 30, Evaluation = 1.9129527008400882\n",
      "Step = 31, Evaluation = 1.8070718313868626\n",
      "Step = 32, Evaluation = 1.379619711343114\n",
      "Step = 33, Evaluation = 1.2609401634476194\n",
      "Step = 34, Evaluation = 1.29969849223676\n",
      "Step = 35, Evaluation = 1.2887264566496373\n",
      "Step = 36, Evaluation = 1.2973253441969481\n",
      "Step = 37, Evaluation = 1.3049307326872184\n",
      "Step = 38, Evaluation = 1.3625554331882677\n",
      "Step = 39, Evaluation = 1.4241881419986802\n",
      "Step = 40, Evaluation = 1.4378879200383974\n",
      "Step = 41, Evaluation = 1.451860901548\n",
      "Step = 42, Evaluation = 1.4131379604091387\n",
      "Step = 43, Evaluation = 1.408783165536997\n",
      "Step = 44, Evaluation = 1.3938995556163536\n",
      "Step = 45, Evaluation = 1.3733226542008683\n",
      "Step = 46, Evaluation = 1.3268031775760938\n",
      "Step = 47, Evaluation = 1.3509442809799734\n",
      "Step = 48, Evaluation = 1.3742412735385323\n",
      "Step = 49, Evaluation = 1.37433937544566\n"
     ]
    },
    {
     "data": {
      "text/plain": [
       "<Figure size 432x288 with 0 Axes>"
      ]
     },
     "metadata": {},
     "output_type": "display_data"
    }
   ],
   "source": [
    "\n",
    "if __name__ == \"__main__\":\n",
    "  \n",
    "    # create a set of particles\n",
    "    n = 1000\n",
    "    p = list()\n",
    "    #p = np.empty(n, dtype=np.dtype(object))\n",
    "    for i in range(n):\n",
    "        p.append(Robot())\n",
    "        p[i].set_noise(0.05, 0.05, 5.0)\n",
    "      \n",
    "  \n",
    "    # re-initialize myrobot object \n",
    "    myrobot = Robot()\n",
    "    #index_list = []\n",
    "\n",
    "    # iterate over the set of particles\n",
    "    steps = 50\n",
    "    for t in range(steps):\n",
    "        #index_list.append([])\n",
    "        # move the robot and sense the environment afterwards\n",
    "        myrobot = myrobot.move(0.1, 5.0)\n",
    "        z = myrobot.sense()\n",
    "\n",
    "        # simulate a robot motion for each of these particles\n",
    "        p2 = list()\n",
    "        for i in range(n):\n",
    "            p2.append(Robot())\n",
    "            p2[i] = p[i].move(0.1, 5.0)\n",
    "            p[i] = copy.deepcopy(p2[i])\n",
    "         \n",
    "\n",
    "        # generate particle weights depending on robot's measurement\n",
    "        #w = np.empty(n)\n",
    "        w = list()\n",
    "        for i in range(n): \n",
    "            w.append(p[i].measurement_prob(z))\n",
    "         \n",
    "        w = np.array(w)\n",
    "\n",
    "        # resample the particles with a sample probability proportional to the importance weight\n",
    "        p3 = list()\n",
    "        for i in range(n):\n",
    "            p3.append(Robot())\n",
    "        \n",
    "        index = int(np.random.rand() * n)\n",
    "\n",
    "        beta = 0.0\n",
    "        mw = w.max()\n",
    "        \n",
    "        for h in range(n): \n",
    "            beta += np.random.rand() * 2.0 * mw\n",
    "            while (beta > w[index]):\n",
    "                beta -= w[index]\n",
    "                index = np.mod((index + 1), n)\n",
    "               \n",
    "                \n",
    "            p3[h] = copy.deepcopy(p[index])\n",
    "            #index_list[t].append(index)\n",
    "            \n",
    "        for k in range(n):\n",
    "            p[k] = copy.deepcopy(p3[k])\n",
    "  \n",
    "        \n",
    "\n",
    "        # evaluate the error\n",
    "        msg = \"Step = \" + str(t) + \", Evaluation = \" + str(evaluation(myrobot, p, n))\n",
    "        print(msg)\n",
    "\n",
    "        # visualize the position of the robot and the particles at each step\n",
    "        visualize(n, myrobot, t, p2, p3);\n"
   ]
  },
  {
   "cell_type": "code",
   "execution_count": 7,
   "metadata": {},
   "outputs": [
    {
     "data": {
      "image/png": "[encoded data removed]",
      "text/plain": [
       "<Figure size 432x288 with 1 Axes>"
      ]
     },
     "metadata": {
      "needs_background": "light"
     },
     "output_type": "display_data"
    }
   ],
   "source": [
    "import cv2\n",
    "step_0 = cv2.imread('images/step0.png')\n",
    "plt.imshow(step_0)\n",
    "plt.show()"
   ]
  },
  {
   "cell_type": "code",
   "execution_count": 5,
   "metadata": {},
   "outputs": [
    {
     "data": {
      "image/png": "[encoded data removed]",
      "text/plain": [
       "<Figure size 432x288 with 1 Axes>"
      ]
     },
     "metadata": {
      "needs_background": "light"
     },
     "output_type": "display_data"
    }
   ],
   "source": [
    "step_24 = cv2.imread('images/step24.png')\n",
    "plt.imshow(step_24)\n",
    "plt.show()"
   ]
  },
  {
   "cell_type": "code",
   "execution_count": 6,
   "metadata": {},
   "outputs": [
    {
     "data": {
      "image/png": "[encoded data removed]",
      "text/plain": [
       "<Figure size 432x288 with 1 Axes>"
      ]
     },
     "metadata": {
      "needs_background": "light"
     },
     "output_type": "display_data"
    }
   ],
   "source": [
    "step_49 = cv2.imread('images/step49.png')\n",
    "plt.imshow(step_49)\n",
    "plt.show()"
   ]
  },
  {
   "cell_type": "code",
   "execution_count": null,
   "metadata": {},
   "outputs": [],
   "source": []
  }
 ],
 "metadata": {
  "kernelspec": {
   "display_name": "Python 3",
   "language": "python",
   "name": "python3"
  },
  "language_info": {
   "codemirror_mode": {
    "name": "ipython",
    "version": 3
   },
   "file_extension": ".py",
   "mimetype": "text/x-python",
   "name": "python",
   "nbconvert_exporter": "python",
   "pygments_lexer": "ipython3",
   "version": "3.7.4"
  }
 },
 "nbformat": 4,
 "nbformat_minor": 2
}
